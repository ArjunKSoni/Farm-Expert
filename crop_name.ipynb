{
 "cells": [
  {
   "cell_type": "code",
   "execution_count": 1,
   "id": "c531a35f",
   "metadata": {},
   "outputs": [],
   "source": [
    "import pandas as pd\n",
    "import numpy as np\n",
    "from sklearn.preprocessing import LabelEncoder\n",
    "from sklearn.metrics.pairwise import cosine_similarity \n",
    "from sklearn.metrics import classification_report\n",
    "from sklearn.linear_model import LinearRegression,LogisticRegression\n",
    "from sklearn.ensemble import RandomForestClassifier\n",
    "from sklearn.svm import SVC\n",
    "import difflib\n",
    "from sklearn.feature_extraction.text import TfidfVectorizer \n",
    "from sklearn.tree import DecisionTreeClassifier\n",
    "from sklearn.naive_bayes import GaussianNB"
   ]
  },
  {
   "cell_type": "code",
   "execution_count": 2,
   "id": "bccd2911",
   "metadata": {},
   "outputs": [],
   "source": [
    "li=LinearRegression()\n",
    "lr=LogisticRegression()\n",
    "rmc=RandomForestClassifier()\n",
    "svc=SVC()\n",
    "dt=DecisionTreeClassifier()\n",
    "gn=GaussianNB()"
   ]
  },
  {
   "cell_type": "code",
   "execution_count": 3,
   "id": "9619e383",
   "metadata": {},
   "outputs": [],
   "source": [
    "df=pd.read_csv(\"crop.csv\")"
   ]
  },
  {
   "cell_type": "code",
   "execution_count": 4,
   "id": "b23286bd",
   "metadata": {},
   "outputs": [
    {
     "data": {
      "text/html": [
       "<div>\n",
       "<style scoped>\n",
       "    .dataframe tbody tr th:only-of-type {\n",
       "        vertical-align: middle;\n",
       "    }\n",
       "\n",
       "    .dataframe tbody tr th {\n",
       "        vertical-align: top;\n",
       "    }\n",
       "\n",
       "    .dataframe thead th {\n",
       "        text-align: right;\n",
       "    }\n",
       "</style>\n",
       "<table border=\"1\" class=\"dataframe\">\n",
       "  <thead>\n",
       "    <tr style=\"text-align: right;\">\n",
       "      <th></th>\n",
       "      <th>N</th>\n",
       "      <th>P</th>\n",
       "      <th>K</th>\n",
       "      <th>temperature</th>\n",
       "      <th>humidity</th>\n",
       "      <th>ph</th>\n",
       "      <th>rainfall</th>\n",
       "      <th>label</th>\n",
       "    </tr>\n",
       "  </thead>\n",
       "  <tbody>\n",
       "    <tr>\n",
       "      <th>0</th>\n",
       "      <td>90</td>\n",
       "      <td>42</td>\n",
       "      <td>43</td>\n",
       "      <td>20.879744</td>\n",
       "      <td>82.002744</td>\n",
       "      <td>6.502985</td>\n",
       "      <td>202.935536</td>\n",
       "      <td>rice</td>\n",
       "    </tr>\n",
       "    <tr>\n",
       "      <th>1</th>\n",
       "      <td>85</td>\n",
       "      <td>58</td>\n",
       "      <td>41</td>\n",
       "      <td>21.770462</td>\n",
       "      <td>80.319644</td>\n",
       "      <td>7.038096</td>\n",
       "      <td>226.655537</td>\n",
       "      <td>rice</td>\n",
       "    </tr>\n",
       "    <tr>\n",
       "      <th>2</th>\n",
       "      <td>60</td>\n",
       "      <td>55</td>\n",
       "      <td>44</td>\n",
       "      <td>23.004459</td>\n",
       "      <td>82.320763</td>\n",
       "      <td>7.840207</td>\n",
       "      <td>263.964248</td>\n",
       "      <td>rice</td>\n",
       "    </tr>\n",
       "    <tr>\n",
       "      <th>3</th>\n",
       "      <td>74</td>\n",
       "      <td>35</td>\n",
       "      <td>40</td>\n",
       "      <td>26.491096</td>\n",
       "      <td>80.158363</td>\n",
       "      <td>6.980401</td>\n",
       "      <td>242.864034</td>\n",
       "      <td>rice</td>\n",
       "    </tr>\n",
       "    <tr>\n",
       "      <th>4</th>\n",
       "      <td>78</td>\n",
       "      <td>42</td>\n",
       "      <td>42</td>\n",
       "      <td>20.130175</td>\n",
       "      <td>81.604873</td>\n",
       "      <td>7.628473</td>\n",
       "      <td>262.717340</td>\n",
       "      <td>rice</td>\n",
       "    </tr>\n",
       "  </tbody>\n",
       "</table>\n",
       "</div>"
      ],
      "text/plain": [
       "    N   P   K  temperature   humidity        ph    rainfall label\n",
       "0  90  42  43    20.879744  82.002744  6.502985  202.935536  rice\n",
       "1  85  58  41    21.770462  80.319644  7.038096  226.655537  rice\n",
       "2  60  55  44    23.004459  82.320763  7.840207  263.964248  rice\n",
       "3  74  35  40    26.491096  80.158363  6.980401  242.864034  rice\n",
       "4  78  42  42    20.130175  81.604873  7.628473  262.717340  rice"
      ]
     },
     "execution_count": 4,
     "metadata": {},
     "output_type": "execute_result"
    }
   ],
   "source": [
    "df.head()"
   ]
  },
  {
   "cell_type": "code",
   "execution_count": 5,
   "id": "dd2271e3",
   "metadata": {},
   "outputs": [],
   "source": [
    "df['Sno'] = np.arange(len(df))"
   ]
  },
  {
   "cell_type": "code",
   "execution_count": 6,
   "id": "fdfddd90",
   "metadata": {},
   "outputs": [
    {
     "data": {
      "text/plain": [
       "2200"
      ]
     },
     "execution_count": 6,
     "metadata": {},
     "output_type": "execute_result"
    }
   ],
   "source": [
    "len(df)"
   ]
  },
  {
   "cell_type": "code",
   "execution_count": 7,
   "id": "f95775ab",
   "metadata": {},
   "outputs": [],
   "source": [
    "crops=df.label.unique().tolist()"
   ]
  },
  {
   "cell_type": "code",
   "execution_count": 8,
   "id": "a3789f31",
   "metadata": {},
   "outputs": [
    {
     "data": {
      "text/plain": [
       "['rice',\n",
       " 'maize',\n",
       " 'chickpea',\n",
       " 'kidneybeans',\n",
       " 'pigeonpeas',\n",
       " 'mothbeans',\n",
       " 'mungbean',\n",
       " 'blackgram',\n",
       " 'lentil',\n",
       " 'pomegranate',\n",
       " 'banana',\n",
       " 'mango',\n",
       " 'grapes',\n",
       " 'watermelon',\n",
       " 'muskmelon',\n",
       " 'apple',\n",
       " 'orange',\n",
       " 'papaya',\n",
       " 'coconut',\n",
       " 'cotton',\n",
       " 'jute',\n",
       " 'coffee']"
      ]
     },
     "execution_count": 8,
     "metadata": {},
     "output_type": "execute_result"
    }
   ],
   "source": [
    "crops"
   ]
  },
  {
   "cell_type": "code",
   "execution_count": 9,
   "id": "a06e490f",
   "metadata": {},
   "outputs": [],
   "source": [
    "combinedDF=[]\n",
    "for i in range(len(crops)):\n",
    "    k=df[df[\"label\"]==crops[i]][\"Sno\"].tolist()[0]\n",
    "    combinedDF.append(str(df[df[\"Sno\"]==k][\"N\"].values[0])+\" \"+str(df[df[\"Sno\"]==k][\"P\"].values[0])+\" \"+str(df[df[\"Sno\"]==k][\"K\"].values[0])+\" \"+str(df[df[\"Sno\"]==k][\"temperature\"].values[0])+\" \"+str(df[df[\"Sno\"]==k][\"humidity\"].values[0])+\" \"+str(df[df[\"Sno\"]==k][\"ph\"].values[0])+\" \"+str(df[df[\"Sno\"]==k][\"rainfall\"].values[0])+\" \"+df[df[\"Sno\"]==k][\"label\"].values[0])"
   ]
  },
  {
   "cell_type": "code",
   "execution_count": 10,
   "id": "e6621dc7",
   "metadata": {},
   "outputs": [],
   "source": [
    "feature_extraction=TfidfVectorizer(stop_words='english',min_df=1)"
   ]
  },
  {
   "cell_type": "code",
   "execution_count": 11,
   "id": "21506d20",
   "metadata": {},
   "outputs": [],
   "source": [
    "dfc=pd.DataFrame(combinedDF)"
   ]
  },
  {
   "cell_type": "code",
   "execution_count": 12,
   "id": "eeff4033",
   "metadata": {},
   "outputs": [
    {
     "name": "stdout",
     "output_type": "stream",
     "text": [
      "['90 42 43 20.87974371 82.00274423 6.502985292000001 202.9355362 rice', '71 54 16 22.61359953 63.69070564 5.7499144210000015 87.75953857 maize', '40 72 77 17.02498456 16.98861173 7.485996067 88.55123143 chickpea', '13 60 25 17.13692774 20.59541693 5.68597166 128.256862 kidneybeans', '3 72 24 36.51268371 57.92887167 6.03160778 122.6539694 pigeonpeas', '3 49 18 27.91095209 64.70930606 3.692863601 32.67891866 mothbeans', '19 55 20 27.43329405 87.80507732 7.18530147 54.73367631 mungbean', '56 79 15 29.48439992 63.19915325 7.454532137 71.89090748 blackgram', '32 76 15 28.05153602 63.49802189 7.604110177000001 43.35795377 lentil', '2 24 38 24.55981624 91.63536236 5.922935513 111.9684622 pomegranate', '91 94 46 29.36792366 76.24900101 6.149934034 92.82840911 banana', '2 40 27 29.73770045 47.54885174 5.954626604 90.09586854 mango', '24 130 195 29.99677232 81.54156612 6.112305667 67.12534492 grapes', '119 25 51 26.47330219 80.92254421 6.283818329 53.65742581 watermelon', '115 17 55 27.57826922 94.11878202 6.776533055 28.08253201 muskmelon', '24 128 196 22.75088787 90.69489172 5.521466996 110.4317855 apple', '22 30 12 15.78144173 92.51077745 6.354006743999999 119.035002 orange', '61 68 50 35.21462816 91.49725058 6.7932454170000005 243.0745066 papaya', '18 30 29 26.762749300000007 92.86056895 6.4200187170000005 224.5903664 coconut', '133 47 24 24.40228894 79.19732001 7.231324765 90.8022356 cotton', '89 47 38 25.52468965 72.24850829 6.002524871 151.8869972 jute', '91 21 26 26.33377983 57.36469955 7.261313694 191.6549412 coffee']\n"
     ]
    }
   ],
   "source": [
    "print(combinedDF)"
   ]
  },
  {
   "cell_type": "code",
   "execution_count": 13,
   "id": "c3d8ec71",
   "metadata": {},
   "outputs": [],
   "source": [
    "combinedDF=feature_extraction.fit_transform(combinedDF)"
   ]
  },
  {
   "cell_type": "code",
   "execution_count": 14,
   "id": "29c433f8",
   "metadata": {},
   "outputs": [
    {
     "name": "stdout",
     "output_type": "stream",
     "text": [
      "  (0, 178)\t0.31694780843122194\n",
      "  (0, 152)\t0.31694780843122194\n",
      "  (0, 37)\t0.31694780843122194\n",
      "  (0, 82)\t0.31694780843122194\n",
      "  (0, 1)\t0.31694780843122194\n",
      "  (0, 136)\t0.31694780843122194\n",
      "  (0, 140)\t0.31694780843122194\n",
      "  (0, 36)\t0.2531275493052584\n",
      "  (0, 69)\t0.2796153500562261\n",
      "  (0, 67)\t0.31694780843122194\n",
      "  (0, 145)\t0.2325820148696191\n",
      "  (1, 169)\t0.3263576252762641\n",
      "  (1, 124)\t0.3263576252762641\n",
      "  (1, 139)\t0.28791680903811523\n",
      "  (1, 122)\t0.3263576252762641\n",
      "  (1, 114)\t0.3263576252762641\n",
      "  (1, 104)\t0.2606426158683822\n",
      "  (1, 103)\t0.3263576252762641\n",
      "  (1, 40)\t0.2606426158683822\n",
      "  (1, 26)\t0.28791680903811523\n",
      "  (1, 89)\t0.28791680903811523\n",
      "  (1, 118)\t0.28791680903811523\n",
      "  (2, 161)\t0.3189139149520463\n",
      "  (2, 93)\t0.3189139149520463\n",
      "  (2, 141)\t0.3189139149520463\n",
      "  :\t:\n",
      "  (19, 74)\t0.25500126450309\n",
      "  (19, 130)\t0.2816851347651025\n",
      "  (19, 43)\t0.43478492334641433\n",
      "  (19, 145)\t0.23430364673940016\n",
      "  (20, 166)\t0.3212167495013538\n",
      "  (20, 142)\t0.3212167495013538\n",
      "  (20, 25)\t0.3212167495013538\n",
      "  (20, 0)\t0.3212167495013538\n",
      "  (20, 45)\t0.3212167495013538\n",
      "  (20, 87)\t0.3212167495013538\n",
      "  (20, 143)\t0.3212167495013538\n",
      "  (20, 74)\t0.25653690113690397\n",
      "  (20, 64)\t0.28338146365582007\n",
      "  (20, 47)\t0.25653690113690397\n",
      "  (20, 119)\t0.25653690113690397\n",
      "  (21, 163)\t0.3033354848800429\n",
      "  (21, 108)\t0.3033354848800429\n",
      "  (21, 31)\t0.3033354848800429\n",
      "  (21, 50)\t0.3033354848800429\n",
      "  (21, 62)\t0.3033354848800429\n",
      "  (21, 57)\t0.3033354848800429\n",
      "  (21, 38)\t0.3033354848800429\n",
      "  (21, 49)\t0.4845123762492866\n",
      "  (21, 146)\t0.22259304648311767\n",
      "  (21, 96)\t0.2676063867077148\n"
     ]
    }
   ],
   "source": [
    "print(combinedDF)"
   ]
  },
  {
   "cell_type": "code",
   "execution_count": 15,
   "id": "6525b1d7",
   "metadata": {},
   "outputs": [
    {
     "name": "stdout",
     "output_type": "stream",
     "text": [
      "enter crop name: rice\n"
     ]
    }
   ],
   "source": [
    "m=input(\"enter crop name: \")"
   ]
  },
  {
   "cell_type": "code",
   "execution_count": 16,
   "id": "5512ff14",
   "metadata": {},
   "outputs": [],
   "source": [
    "similarity=cosine_similarity(combinedDF)"
   ]
  },
  {
   "cell_type": "code",
   "execution_count": 17,
   "id": "165f1a10",
   "metadata": {},
   "outputs": [
    {
     "name": "stdout",
     "output_type": "stream",
     "text": [
      "(22, 22)\n"
     ]
    }
   ],
   "source": [
    "print(similarity.shape)"
   ]
  },
  {
   "cell_type": "code",
   "execution_count": 18,
   "id": "0a000edb",
   "metadata": {},
   "outputs": [],
   "source": [
    "similar_crops=difflib.get_close_matches(m,crops)"
   ]
  },
  {
   "cell_type": "code",
   "execution_count": 19,
   "id": "9f2f759c",
   "metadata": {},
   "outputs": [
    {
     "name": "stdout",
     "output_type": "stream",
     "text": [
      "['rice']\n"
     ]
    }
   ],
   "source": [
    "print(similar_crops)"
   ]
  },
  {
   "cell_type": "code",
   "execution_count": 20,
   "id": "f253212e",
   "metadata": {},
   "outputs": [
    {
     "data": {
      "text/plain": [
       "0"
      ]
     },
     "execution_count": 20,
     "metadata": {},
     "output_type": "execute_result"
    }
   ],
   "source": [
    "similar_index=-1\n",
    "for i in range(len(crops)):\n",
    "    if crops[i] == similar_crops[0]:\n",
    "        similar_index=i\n",
    "        break\n",
    "similar_index"
   ]
  },
  {
   "cell_type": "code",
   "execution_count": 21,
   "id": "ae2d1034",
   "metadata": {},
   "outputs": [],
   "source": [
    "similar_crop_indexes=list(enumerate(similarity[similar_index]))"
   ]
  },
  {
   "cell_type": "code",
   "execution_count": 22,
   "id": "a0563486",
   "metadata": {},
   "outputs": [],
   "source": [
    "similar_crop_indexes=sorted(similar_crop_indexes,key=lambda x:x[1],reverse=True)"
   ]
  },
  {
   "cell_type": "code",
   "execution_count": 23,
   "id": "10ef2918",
   "metadata": {},
   "outputs": [],
   "source": [
    "rest_crops=[]\n",
    "for i in range(1,4):\n",
    "    rest_crops.append(crops[similar_crop_indexes[i][0]])\n",
    "    "
   ]
  },
  {
   "cell_type": "code",
   "execution_count": 24,
   "id": "fec5ba04",
   "metadata": {},
   "outputs": [
    {
     "data": {
      "text/plain": [
       "['lentil', 'mungbean', 'kidneybeans']"
      ]
     },
     "execution_count": 24,
     "metadata": {},
     "output_type": "execute_result"
    }
   ],
   "source": [
    "rest_crops"
   ]
  },
  {
   "cell_type": "code",
   "execution_count": 25,
   "id": "d800a95b",
   "metadata": {},
   "outputs": [
    {
     "name": "stdout",
     "output_type": "stream",
     "text": [
      "Enter Crop Name: rice\n"
     ]
    },
    {
     "data": {
      "text/plain": [
       "['lentil', 'mungbean', 'kidneybeans']"
      ]
     },
     "execution_count": 25,
     "metadata": {},
     "output_type": "execute_result"
    }
   ],
   "source": [
    "m=input(\"Enter Crop Name: \")\n",
    "similar_crops=difflib.get_close_matches(m,crops)\n",
    "similar_index=-1\n",
    "for i in range(len(crops)):\n",
    "    if crops[i] == similar_crops[0]:\n",
    "        similar_index=i\n",
    "        break\n",
    "similar_crop_indexes=list(enumerate(similarity[similar_index]))\n",
    "similar_crop_indexes=sorted(similar_crop_indexes,key=lambda x:x[1],reverse=True)\n",
    "rest_crops=[]\n",
    "for i in range(1,4):\n",
    "    rest_crops.append(crops[similar_crop_indexes[i][0]])\n",
    "rest_crops"
   ]
  }
 ],
 "metadata": {
  "kernelspec": {
   "display_name": "Python 3 (ipykernel)",
   "language": "python",
   "name": "python3"
  },
  "language_info": {
   "codemirror_mode": {
    "name": "ipython",
    "version": 3
   },
   "file_extension": ".py",
   "mimetype": "text/x-python",
   "name": "python",
   "nbconvert_exporter": "python",
   "pygments_lexer": "ipython3",
   "version": "3.9.13"
  }
 },
 "nbformat": 4,
 "nbformat_minor": 5
}
